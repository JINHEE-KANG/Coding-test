{
 "cells": [
  {
   "cell_type": "markdown",
   "metadata": {},
   "source": [
    "# 제곱수\n",
    "\n",
    "## Problem\n",
    "\n",
    "숫자 `n`이 주어질 때, 1부터 n까지 중 **제곱수**만 출력하시오.\n",
    "\n",
    "#### **Example 1**\n",
    "\n",
    "```\n",
    "Input: 10\n",
    "Output: 1,4,9\n",
    "```\n",
    "\n",
    "\n",
    "## Code\n",
    "\n",
    "**19.07.12 ver**"
   ]
  },
  {
   "cell_type": "code",
   "execution_count": 1,
   "metadata": {},
   "outputs": [],
   "source": [
    "def sp_num(n):\n",
    "    output = list()\n",
    "    for i in range(1,n):\n",
    "        if i**2<=n:\n",
    "            output.append(i**2)\n",
    "        else:\n",
    "            break\n",
    "    return output"
   ]
  },
  {
   "cell_type": "markdown",
   "metadata": {},
   "source": [
    "#### 사용 함수\n",
    "\n",
    "- `for` loop\n",
    "- `append()` 리스트에 요소 추가"
   ]
  }
 ],
 "metadata": {
  "kernelspec": {
   "display_name": "Python 3",
   "language": "python",
   "name": "python3"
  },
  "language_info": {
   "codemirror_mode": {
    "name": "ipython",
    "version": 3
   },
   "file_extension": ".py",
   "mimetype": "text/x-python",
   "name": "python",
   "nbconvert_exporter": "python",
   "pygments_lexer": "ipython3",
   "version": "3.7.3"
  }
 },
 "nbformat": 4,
 "nbformat_minor": 2
}
