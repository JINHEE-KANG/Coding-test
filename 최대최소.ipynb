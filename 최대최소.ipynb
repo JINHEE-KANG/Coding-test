{
 "cells": [
  {
   "cell_type": "markdown",
   "metadata": {},
   "source": [
    "# 최대최소 문자\n",
    "### 문제 설명\n",
    "문자열 s에는 공백으로 구분된 숫자들이 저장되어 있습니다. str에 나타나는 숫자 중 최소값과 최대값을 찾아 이를 (최소값) (최대값)형태의 문자열을 반환하는 함수, solution을 완성하세요.\n",
    "예를들어 s가 1 2 3 4라면 1 4를 리턴하고, -1 -2 -3 -4라면 -4 -1을 리턴하면 됩니다.\n",
    "\n",
    "#### 제한 조건\n",
    "s에는 둘 이상의 정수가 공백으로 구분되어 있습니다.\n",
    "\n",
    "#### 입출력 예\n",
    "|s|return|\n",
    "|-|------|\n",
    "|'1 2 3 4'|'1 4'|\n",
    "|'-1 -2 -3 -4'|'-4 -1'|\n",
    "|'-1 -1'|'-1 -1'|"
   ]
  },
  {
   "cell_type": "code",
   "execution_count": 21,
   "metadata": {},
   "outputs": [],
   "source": [
    "def solution(s):\n",
    "    s_list = list(map(int,s.split())) #문자열 s를 int 인자의 리스트로 변환\n",
    "    s_list.sort() # *효율성*을 위해 sort로 풀기\n",
    "    s_min = str(s_list[0])\n",
    "    s_max = str(s_list[-1])\n",
    "    answer = s_min+' '+s_max\n",
    "    return answer"
   ]
  },
  {
   "cell_type": "code",
   "execution_count": 14,
   "metadata": {},
   "outputs": [],
   "source": [
    "ex1 = '1 2 3 4'\n",
    "ex1_l = list(map(int,ex1.split()))\n",
    "ex1_l = map()"
   ]
  },
  {
   "cell_type": "code",
   "execution_count": 22,
   "metadata": {},
   "outputs": [
    {
     "data": {
      "text/plain": [
       "'1 4'"
      ]
     },
     "execution_count": 22,
     "metadata": {},
     "output_type": "execute_result"
    }
   ],
   "source": [
    "ex1 = '1 2 3 4'\n",
    "solution(ex1)\n",
    "# return: 1 4"
   ]
  },
  {
   "cell_type": "code",
   "execution_count": 23,
   "metadata": {},
   "outputs": [
    {
     "data": {
      "text/plain": [
       "'-4 -1'"
      ]
     },
     "execution_count": 23,
     "metadata": {},
     "output_type": "execute_result"
    }
   ],
   "source": [
    "ex2 = '-1 -2 -3 -4'\n",
    "solution(ex2)\n",
    "# return: -4 -1"
   ]
  },
  {
   "cell_type": "code",
   "execution_count": 24,
   "metadata": {},
   "outputs": [
    {
     "data": {
      "text/plain": [
       "'-1 -1'"
      ]
     },
     "execution_count": 24,
     "metadata": {},
     "output_type": "execute_result"
    }
   ],
   "source": [
    "ex3 = '-1 -1'\n",
    "solution(ex3)\n",
    "# return: -1 -1"
   ]
  }
 ],
 "metadata": {
  "kernelspec": {
   "display_name": "Python 3",
   "language": "python",
   "name": "python3"
  },
  "language_info": {
   "codemirror_mode": {
    "name": "ipython",
    "version": 3
   },
   "file_extension": ".py",
   "mimetype": "text/x-python",
   "name": "python",
   "nbconvert_exporter": "python",
   "pygments_lexer": "ipython3",
   "version": "3.7.3"
  }
 },
 "nbformat": 4,
 "nbformat_minor": 2
}
