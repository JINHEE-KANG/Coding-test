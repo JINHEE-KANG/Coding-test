{
 "cells": [
  {
   "cell_type": "markdown",
   "metadata": {},
   "source": [
    "# Contains Duplicate\n",
    "\n",
    "### 출처\n",
    "\n",
    "LeetCode>Problems\n",
    "\n",
    "[문제 보러가기](https://leetcode.com/problems/contains-duplicate/)\n",
    "\n",
    "\n",
    "\n",
    "## Problem\n",
    "\n",
    "배열 요소 중 중복되는 숫자가 존재하면 **True**, 중복되는 숫자가 존재하지 않으면 **False**를 출력하시오.\n",
    "\n",
    "#### **Example 1:**\n",
    "\n",
    "```\n",
    "Input: [1,2,3,1]\n",
    "Output: true\n",
    "```\n",
    "\n",
    "#### **Example 2:**\n",
    "\n",
    "```\n",
    "Input: [1,2,3,4]\n",
    "Output: false\n",
    "```\n",
    "\n",
    "#### **Example 3:**\n",
    "\n",
    "```\n",
    "Input: [1,1,1,3,3,4,3,2,4,2]\n",
    "Output: true\n",
    "```\n",
    "\n",
    "\n",
    "\n",
    "## Code\n",
    "\n",
    "**19.07.03 ver**"
   ]
  },
  {
   "cell_type": "code",
   "execution_count": 2,
   "metadata": {},
   "outputs": [
    {
     "name": "stdin",
     "output_type": "stream",
     "text": [
      "input:  1,2,3,4\n"
     ]
    },
    {
     "name": "stdout",
     "output_type": "stream",
     "text": [
      "Output:  False\n"
     ]
    }
   ],
   "source": [
    "int_list = list(map(int,input('input: ').split(',')))\n",
    "\n",
    "for idx in range(len(int_list)):\n",
    "    num = int_list[idx]\n",
    "    if int_list.count(num)==1:\n",
    "        output = False\n",
    "        continue\n",
    "    else:\n",
    "        output = True\n",
    "        break\n",
    "print('Output: ',output)"
   ]
  },
  {
   "cell_type": "markdown",
   "metadata": {},
   "source": [
    "#### 사용 함수\n",
    "\n",
    "- `map()` 리스트 요소의 정수변환\n",
    "- `split()` 문자열 자르기\n",
    "- `len()` 리스트의 길이\n",
    "- `count()` 리스트 속 요소 개수\n",
    "\n",
    "\n",
    "\n",
    "## Summary\n",
    "\n",
    "- Loop Invariant\n",
    "- Linear Search\n",
    "- Sorting\n",
    "- Hash Table"
   ]
  }
 ],
 "metadata": {
  "kernelspec": {
   "display_name": "Python 3",
   "language": "python",
   "name": "python3"
  },
  "language_info": {
   "codemirror_mode": {
    "name": "ipython",
    "version": 3
   },
   "file_extension": ".py",
   "mimetype": "text/x-python",
   "name": "python",
   "nbconvert_exporter": "python",
   "pygments_lexer": "ipython3",
   "version": "3.7.3"
  }
 },
 "nbformat": 4,
 "nbformat_minor": 2
}
