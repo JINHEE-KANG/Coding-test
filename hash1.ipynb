{
 "cells": [
  {
   "cell_type": "markdown",
   "metadata": {},
   "source": [
    "# 완주하지 못한 선수\n",
    "\n",
    "수많은 마라톤 선수들이 마라톤에 참여하였습니다. 단 한 명의 선수를 제외하고는 모든 선수가 마라톤을 완주하였습니다.\n",
    "\n",
    "마라톤에 참여한 선수들의 이름이 담긴 배열 participant와 완주한 선수들의 이름이 담긴 배열 completion이 주어질 때, 완주하지 못한 선수의 이름을 return 하도록 solution 함수를 작성해주세요.\n",
    "\n",
    "## 제한사항\n",
    "- 마라톤 경기에 참여한 선수의 수는 1명 이상 100,000명 이하입니다.\n",
    "- completion의 길이는 participant의 길이보다 1 작습니다.\n",
    "- 참가자의 이름은 1개 이상 20개 이하의 알파벳 소문자로 이루어져 있습니다.\n",
    "- 참가자 중에는 동명이인이 있을 수 있습니다.\n",
    "\n",
    "## 입출력 예\n",
    "|participant|completion|return|\n",
    "|-----------|----------|------|\n",
    "|[leo, kiki, eden]|[eden, kiki]|leo|\n",
    "|[marina, josipa, nikola, vinko, filipa]|[josipa, filipa, marina, nikola]|vinko|\n",
    "|[mislav, stanko, mislav, ana]|[stanko, ana, mislav]|mislav|\n",
    "\n",
    "예제 #1\n",
    "leo는 참여자 명단에는 있지만, 완주자 명단에는 없기 때문에 완주하지 못했습니다.\n",
    "\n",
    "예제 #2\n",
    "vinko는 참여자 명단에는 있지만, 완주자 명단에는 없기 때문에 완주하지 못했습니다.\n",
    "\n",
    "예제 #3\n",
    "mislav는 참여자 명단에는 두 명이 있지만, 완주자 명단에는 한 명밖에 없기 때문에 한명은 완주하지 못했습니다."
   ]
  },
  {
   "cell_type": "code",
   "execution_count": 23,
   "metadata": {},
   "outputs": [],
   "source": [
    "def solution(participant, completion):\n",
    "    participant.sort()\n",
    "    completion.sort()\n",
    "    TF = 0\n",
    "    for i in range(len(completion)):\n",
    "        if participant[i]!=completion[i]:\n",
    "            answer = participant[i]\n",
    "            TF = 1\n",
    "            break\n",
    "    if TF == 0:\n",
    "        answer = participant[-1]\n",
    "    return answer"
   ]
  },
  {
   "cell_type": "code",
   "execution_count": 24,
   "metadata": {},
   "outputs": [
    {
     "name": "stdout",
     "output_type": "stream",
     "text": [
      "leo\n",
      "vinko\n",
      "mislav\n"
     ]
    }
   ],
   "source": [
    "#### test case ####\n",
    "print(solution(['leo', 'kiki', 'eden'],['eden', 'kiki'])) #leo\n",
    "print(solution(['marina', 'josipa', 'nikola', 'vinko', 'filipa'],['josipa', 'filipa', 'marina', 'nikola'])) #vinko\n",
    "print(solution(['mislav', 'stanko', 'mislav', 'ana'],['stanko', 'ana', 'mislav'])) #mislav"
   ]
  },
  {
   "cell_type": "markdown",
   "metadata": {},
   "source": [
    "## 다른 사람 풀이(참고)"
   ]
  },
  {
   "cell_type": "code",
   "execution_count": 28,
   "metadata": {},
   "outputs": [
    {
     "name": "stdout",
     "output_type": "stream",
     "text": [
      "leo\n",
      "vinko\n",
      "mislav\n"
     ]
    }
   ],
   "source": [
    "def solution1(participant, completion):\n",
    "    participant.sort()\n",
    "    completion.sort()\n",
    "    for i in range(len(completion)):\n",
    "        if participant[i] != completion[i]:\n",
    "            return participant[i]\n",
    "    return participant[-1] #if 문에 걸리지 않을 경우 아예 최종 return결과를 -1로 걸 수 있음\n",
    "\n",
    "#### test case ####\n",
    "print(solution1(['leo', 'kiki', 'eden'],['eden', 'kiki'])) #leo\n",
    "print(solution1(['marina', 'josipa', 'nikola', 'vinko', 'filipa'],['josipa', 'filipa', 'marina', 'nikola'])) #vinko\n",
    "print(solution1(['mislav', 'stanko', 'mislav', 'ana'],['stanko', 'ana', 'mislav'])) #mislav"
   ]
  },
  {
   "cell_type": "code",
   "execution_count": 31,
   "metadata": {},
   "outputs": [
    {
     "name": "stdout",
     "output_type": "stream",
     "text": [
      "-8330236580596337319\n",
      "-8330236580596337319\n",
      "-2840287740899247042\n",
      "-11170524321495584361\n",
      "4781194423102847187\n",
      "-6389329898392737174\n",
      "leo\n",
      "4539535075805256962\n",
      "4539535075805256962\n",
      "430880413721734531\n",
      "4970415489526991493\n",
      "-6242583826875563848\n",
      "-1272168337348572355\n",
      "2024008117441234035\n",
      "751839780092661680\n",
      "-4704594497817555826\n",
      "-3952754717724894146\n",
      "vinko\n",
      "-2996554582386289048\n",
      "-2996554582386289048\n",
      "-841230482614635983\n",
      "-3837785065000925031\n",
      "-2996554582386289048\n",
      "-6834339647387214079\n",
      "-245709506598841378\n",
      "-7080049153986055457\n",
      "mislav\n"
     ]
    }
   ],
   "source": [
    "def solution2(participant, completion):\n",
    "    answer = '' #answer을 빈 문자열로 지정\n",
    "    temp = 0 #temp의 기본 세팅\n",
    "    dic = {} #dictionary: \n",
    "    for part in participant: #participant의 인자(이름)을 part로 받아\n",
    "        print(hash(part))\n",
    "        dic[hash(part)] = part # hash(part)\n",
    "        temp += int(hash(part))\n",
    "        print(temp)\n",
    "    for com in completion:\n",
    "        temp -= hash(com)\n",
    "    answer = dic[temp]\n",
    "\n",
    "    return answer #if 문에 걸리지 않을 경우 아예 최종 return결과를 -1로 걸 수 있음\n",
    "\n",
    "#### test case ####\n",
    "print(solution2(['leo', 'kiki', 'eden'],['eden', 'kiki'])) #leo\n",
    "print(solution2(['marina', 'josipa', 'nikola', 'vinko', 'filipa'],['josipa', 'filipa', 'marina', 'nikola'])) #vinko\n",
    "print(solution2(['mislav', 'stanko', 'mislav', 'ana'],['stanko', 'ana', 'mislav'])) #mislav"
   ]
  },
  {
   "cell_type": "code",
   "execution_count": 33,
   "metadata": {},
   "outputs": [
    {
     "name": "stdout",
     "output_type": "stream",
     "text": [
      "Counter({'leo': 1, 'kiki': 1, 'eden': 1})\n",
      "Counter({'eden': 1, 'kiki': 1})\n",
      "Counter({'leo': 1})\n",
      "leo\n",
      "Counter({'marina': 1, 'josipa': 1, 'nikola': 1, 'vinko': 1, 'filipa': 1})\n",
      "Counter({'josipa': 1, 'filipa': 1, 'marina': 1, 'nikola': 1})\n",
      "Counter({'vinko': 1})\n",
      "vinko\n",
      "Counter({'mislav': 2, 'stanko': 1, 'ana': 1})\n",
      "Counter({'stanko': 1, 'ana': 1, 'mislav': 1})\n",
      "Counter({'mislav': 1})\n",
      "mislav\n"
     ]
    }
   ],
   "source": [
    "import collections as cl###충공깽 collestions\n",
    "\n",
    "def solution3(participant, completion):\n",
    "    answer = cl.Counter(participant) - cl.Counter(completion)\n",
    "    print(cl.Counter(participant)) #한번에 list의 인자를 count해서 dict.로 저장\n",
    "    print(cl.Counter(completion))\n",
    "    print(answer) #answer도 dictionary형태로 반환\n",
    "    return list(answer.keys())[0]\n",
    "\n",
    "#### test case ####\n",
    "print(solution3(['leo', 'kiki', 'eden'],['eden', 'kiki'])) #leo\n",
    "print(solution3(['marina', 'josipa', 'nikola', 'vinko', 'filipa'],['josipa', 'filipa', 'marina', 'nikola'])) #vinko\n",
    "print(solution3(['mislav', 'stanko', 'mislav', 'ana'],['stanko', 'ana', 'mislav'])) #mislav"
   ]
  },
  {
   "cell_type": "markdown",
   "metadata": {},
   "source": [
    "## collections\n",
    "[documents](https://docs.python.org/2/library/collections.html)\n",
    "- **Counter** : input을 'value:counts'의 dictionary로 반환"
   ]
  },
  {
   "cell_type": "code",
   "execution_count": 50,
   "metadata": {},
   "outputs": [
    {
     "name": "stdout",
     "output_type": "stream",
     "text": [
      "Counter({'leo': 1, 'kiki': 1, 'eden': 1})\n",
      "Counter({'a': 3, 'l': 2, 'g': 1, 'h': 1, 'd': 1})\n",
      "Counter({'red': 4, 'blue': 2})\n",
      "<itertools.chain object at 0x000001D013FBE898>\n",
      "<itertools.chain object at 0x000001D013FBEF28>\n",
      "<itertools.chain object at 0x000001D013FBE898>\n"
     ]
    }
   ],
   "source": [
    "e1 = ['leo', 'kiki', 'eden']  #list\n",
    "e2 = 'gallahad'               #string\n",
    "e3 = {'red': 4, 'blue': 2}    #dictionary\n",
    "\n",
    "print(cl.Counter(e1))\n",
    "print(cl.Counter(e2))\n",
    "print(cl.Counter(e3))\n",
    "\n",
    "print(cl.Counter(e1).elements())\n",
    "print(cl.Counter(e2).elements())\n",
    "print(cl.Counter(e3).elements())"
   ]
  }
 ],
 "metadata": {
  "kernelspec": {
   "display_name": "Python 3",
   "language": "python",
   "name": "python3"
  },
  "language_info": {
   "codemirror_mode": {
    "name": "ipython",
    "version": 3
   },
   "file_extension": ".py",
   "mimetype": "text/x-python",
   "name": "python",
   "nbconvert_exporter": "python",
   "pygments_lexer": "ipython3",
   "version": "3.7.3"
  }
 },
 "nbformat": 4,
 "nbformat_minor": 2
}
