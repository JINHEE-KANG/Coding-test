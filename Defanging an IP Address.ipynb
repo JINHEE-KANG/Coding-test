{
 "cells": [
  {
   "cell_type": "markdown",
   "metadata": {},
   "source": [
    "# Defanging an IP Address\n",
    "\n",
    "### 출처\n",
    "\n",
    "LeetCode>Problems\n",
    "\n",
    "[문제 보러가기](https://leetcode.com/problems/defanging-an-ip-address/)\n",
    "\n",
    "\n",
    "\n",
    "## Problem\n",
    "\n",
    "`address`로 입력된 문자열에 포함된 점`.`에 대괄호`[]`를 씌우기\n",
    "\n",
    "**Example 1:**\n",
    "\n",
    "```\n",
    "Input: address = \"1.1.1.1\"\n",
    "Output: \"1[.]1[.]1[.]1\"\n",
    "```\n",
    "\n",
    "**Example 2:**\n",
    "\n",
    "```\n",
    "Input: address = \"255.100.50.0\"\n",
    "Output: \"255[.]100[.]50[.]0\"\n",
    "```\n",
    "\n",
    "**Constraints:**\n",
    "\n",
    "- The given `address` is a valid IPv4 address."
   ]
  },
  {
   "cell_type": "markdown",
   "metadata": {},
   "source": [
    "## Code\n",
    "\n",
    "**19.07.11 ver**"
   ]
  },
  {
   "cell_type": "code",
   "execution_count": 10,
   "metadata": {},
   "outputs": [],
   "source": [
    "def ftn_19(x):\n",
    "    x_split = x.split('.')\n",
    "    out = '[.]'.join(x_split)\n",
    "    return out"
   ]
  },
  {
   "cell_type": "code",
   "execution_count": 11,
   "metadata": {},
   "outputs": [
    {
     "name": "stdout",
     "output_type": "stream",
     "text": [
      "['n[.]n[.]n[.]n', '1[.]1[.]1[.]1', '255[.]100[.]50[.]0']\n"
     ]
    }
   ],
   "source": [
    "ex = ['n.n.n.n','1.1.1.1','255.100.50.0']\n",
    "print(list(map(ftn_19,ex)))"
   ]
  },
  {
   "cell_type": "markdown",
   "metadata": {},
   "source": [
    "#### 사용 함수\n",
    "\n",
    "- `input()` 입력값을 **문자열**로 받음\n",
    "- `split()` 문자열 자르기\n",
    "- `join()` `split`의 반대로 구분자를 지정하여 리스트를 병합\n",
    "- `print()` 출력 함수로 `return`기능을 포함"
   ]
  }
 ],
 "metadata": {
  "kernelspec": {
   "display_name": "Python 3",
   "language": "python",
   "name": "python3"
  },
  "language_info": {
   "codemirror_mode": {
    "name": "ipython",
    "version": 3
   },
   "file_extension": ".py",
   "mimetype": "text/x-python",
   "name": "python",
   "nbconvert_exporter": "python",
   "pygments_lexer": "ipython3",
   "version": "3.7.3"
  }
 },
 "nbformat": 4,
 "nbformat_minor": 2
}
