{
 "cells": [
  {
   "cell_type": "markdown",
   "metadata": {},
   "source": [
    "# 단속카메라\n",
    "\n",
    "### solution\n",
    "- [list zip](https://www.w3schools.com/python/ref_func_zip.asp): 병렬 재조합 `zip(a,b)`\n",
    "    - [예제](https://www.w3schools.com/python/trypython.asp?filename=demo_ref_zip2)\n",
    "    - [**zip multiple list**](https://stackoverflow.com/questions/27001831/zipping-multiple-lists-together): 2개 이상의 리스트를 인자로 가지는 중첩된 리스트 zip\n",
    "        - 예) 1. ex = [[-20,15], [-14,-5], [-18,-13], [-5,-3]] -> 2. `list(zip(*ex))` => result: [(-20, -14, -18, -5), (15, -5, -13, -3)]\n",
    "- [list apply](https://chrisalbon.com/python/basics/applying_functions_to_list_items/): 리스트에 함수 적용(zip) `map(function,list)`\n",
    "    - 리스트 반환 `list(map(function, list))`\n",
    "    - 함수 만들기(lambda) `lambda x: x.function()`\n",
    "        - 예) f = lambda x: x.upper()\n",
    "        \n",
    "### solution1\n",
    "- factorial\n",
    "    - [factorial](https://www.geeksforgeeks.org/factorial-in-python/): <u>import math</u> `math.factorial(n)`\n",
    "    - [permutations](https://www.geeksforgeeks.org/permutation-and-combination-in-python/): <u>from itertools import permutations</u> `permutation(list)`"
   ]
  },
  {
   "cell_type": "code",
   "execution_count": 7,
   "metadata": {},
   "outputs": [],
   "source": [
    "def solution(routes):\n",
    "    l = [abs(routes[i][0]-routes[i][1]) for i in range(len(routes))]\n",
    "    print(f'length:{l},max_length:{max(l)},max_route: {l.index(max(l))}')\n",
    "    \n",
    "    base = routes[l.index(max(l))]\n",
    "    mn, mx = base[0],base[1]\n",
    "    print(f'base:{base},mn:{mn},mx:{mx}')\n",
    "    \n",
    "    answer = 1\n",
    "    for n in range(len(routes)):\n",
    "        if routes[i]!=base:\n",
    "            a,b,c,d = routes[i][0]>=mn,routes[i][0]<=mx,routes[i][1]>=mn,routes[i][1]>=mx\n",
    "            if (a&b)or(c&d): # base와 겹치는 경우\n",
    "                continue\n",
    "            else: # base와 겹치지 않는 경우\n",
    "    return answer"
   ]
  },
  {
   "cell_type": "code",
   "execution_count": null,
   "metadata": {},
   "outputs": [],
   "source": [
    "def solution(routes):\n",
    "    l = [abs(routes[i][0]-routes[i][1]) for i in range(len(routes))]\n",
    "    print(f'length:{l},min_length:{min(l)},min_route: {l.index(min(l))}')\n",
    "    \n",
    "    base = routes[l.index(min(l))]\n",
    "    mn, mx = base[0],base[1]\n",
    "    base_n = [mn:mx+1]\n",
    "    print(f'base:{base},mn:{mn},mx:{mx},base_n:{base_n})\n",
    "    \n",
    "    for n in range(len(routes)):\n",
    "        if routes[n]!=base:\n",
    "          a,b,c,d = routes[n][0]>=mn,routes[n][0]<=mx,routes[n][1]>=mn,routes[n][1]>=mx\n",
    "          base_n1 = [if (mn>=routes[n][0] and  for k in base_n]\n",
    "            if (a&b)or(c&d): # base와 겹치는 경우\n",
    "                continue\n",
    "            else: # base와 겹치지 않는 경우\n",
    "    return answer"
   ]
  },
  {
   "cell_type": "code",
   "execution_count": 52,
   "metadata": {},
   "outputs": [],
   "source": [
    "## 겹치는 구간 유무를 바탕으로 행렬 작성->행렬 값으로 도출\n",
    "# 정확성, 효율성 0\n",
    "\n",
    "import numpy as np\n",
    "\n",
    "def solution(routes):\n",
    "    n = len(routes)\n",
    "    TF = np.zeros((n,n),dtype = int)\n",
    "    \n",
    "    for i in range(n):\n",
    "        for j in range(i+1,n):\n",
    "            a,b = routes[i][0]<=routes[j][0]<=routes[i][1],routes[i][0]<=routes[j][1]<=routes[i][1]\n",
    "            if a or b:\n",
    "                TF[i][j] = 1\n",
    "    answer = ((n*(n-1)/2)-TF.sum())*2\n",
    "    print(f'combination{(n*(n-1)/2)},sum_TF{TF.sum()}')\n",
    "    \n",
    "    return int(answer)"
   ]
  },
  {
   "cell_type": "code",
   "execution_count": 53,
   "metadata": {},
   "outputs": [
    {
     "name": "stdout",
     "output_type": "stream",
     "text": [
      "combination6.0,sum_TF5\n"
     ]
    },
    {
     "data": {
      "text/plain": [
       "2"
      ]
     },
     "execution_count": 53,
     "metadata": {},
     "output_type": "execute_result"
    }
   ],
   "source": [
    "solution([[-20,15], [-14,-5], [-18,-13], [-5,-3]]) #return 2"
   ]
  },
  {
   "cell_type": "code",
   "execution_count": 27,
   "metadata": {},
   "outputs": [
    {
     "data": {
      "text/plain": [
       "[(-20, -14, -18, -5), (15, -5, -13, -3)]"
      ]
     },
     "execution_count": 27,
     "metadata": {},
     "output_type": "execute_result"
    }
   ],
   "source": [
    "ex = [[-20,15], [-14,-5], [-18,-13], [-5,-3]]\n",
    "list(zip(*ex))"
   ]
  },
  {
   "cell_type": "code",
   "execution_count": 34,
   "metadata": {},
   "outputs": [
    {
     "data": {
      "text/plain": [
       "True"
      ]
     },
     "execution_count": 34,
     "metadata": {},
     "output_type": "execute_result"
    }
   ],
   "source": [
    "mn, mx = -20, 15\n",
    "a,b = mn<=ex[1][0]<=mx,mn<=ex[1][1]<=mx\n",
    "b"
   ]
  },
  {
   "cell_type": "code",
   "execution_count": 39,
   "metadata": {},
   "outputs": [
    {
     "name": "stdout",
     "output_type": "stream",
     "text": [
      "i0,j10\n",
      "i1,j20\n",
      "i2,j30\n",
      "i3,j40\n"
     ]
    }
   ],
   "source": [
    "for i,j in enumerate([10,20,30,40]):\n",
    "    print(f'i{i},j{j}')"
   ]
  }
 ],
 "metadata": {
  "kernelspec": {
   "display_name": "Python 3",
   "language": "python",
   "name": "python3"
  },
  "language_info": {
   "codemirror_mode": {
    "name": "ipython",
    "version": 3
   },
   "file_extension": ".py",
   "mimetype": "text/x-python",
   "name": "python",
   "nbconvert_exporter": "python",
   "pygments_lexer": "ipython3",
   "version": "3.7.3"
  }
 },
 "nbformat": 4,
 "nbformat_minor": 2
}
