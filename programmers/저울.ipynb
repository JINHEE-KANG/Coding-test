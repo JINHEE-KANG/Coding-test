{
 "cells": [
  {
   "cell_type": "code",
   "execution_count": 2,
   "metadata": {},
   "outputs": [
    {
     "data": {
      "text/plain": [
       "[1, 1, 2, 3, 6, 7, 30]"
      ]
     },
     "execution_count": 2,
     "metadata": {},
     "output_type": "execute_result"
    }
   ],
   "source": [
    "w = [3, 1, 6, 2, 7, 30, 1]\n",
    "w.sort()\n",
    "w"
   ]
  },
  {
   "cell_type": "code",
   "execution_count": 3,
   "metadata": {},
   "outputs": [
    {
     "name": "stdout",
     "output_type": "stream",
     "text": [
      "i0,w[i]1,ex9\n",
      "i1,w[i]1,ex8\n",
      "i2,w[i]2,ex6\n",
      "i3,w[i]3,ex3\n",
      "i4,w[i]6,ex-3\n"
     ]
    }
   ],
   "source": [
    "ex = 10\n",
    "i = 0\n",
    "while ex>0:\n",
    "    ex -= w[i]\n",
    "    print(f'i{i},w[i]{w[i]},ex{ex}')\n",
    "    i += 1"
   ]
  },
  {
   "cell_type": "code",
   "execution_count": 5,
   "metadata": {},
   "outputs": [],
   "source": [
    "def solution(weight):\n",
    "    weight.sort()\n",
    "    cum = 0\n",
    "    for i in range(len(weight)):\n",
    "        if cum+1<weight[i]:\n",
    "            break\n",
    "        else:\n",
    "            cum += weight[i]\n",
    "    return cum+1"
   ]
  }
 ],
 "metadata": {
  "kernelspec": {
   "display_name": "Python 3",
   "language": "python",
   "name": "python3"
  },
  "language_info": {
   "codemirror_mode": {
    "name": "ipython",
    "version": 3
   },
   "file_extension": ".py",
   "mimetype": "text/x-python",
   "name": "python",
   "nbconvert_exporter": "python",
   "pygments_lexer": "ipython3",
   "version": "3.7.3"
  }
 },
 "nbformat": 4,
 "nbformat_minor": 2
}
