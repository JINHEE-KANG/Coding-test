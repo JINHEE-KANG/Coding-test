{
 "cells": [
  {
   "cell_type": "markdown",
   "metadata": {},
   "source": [
    "# 완주하지 못한 선수 \n",
    "\n",
    "수많은 마라톤 선수들이 마라톤에 참여하였습니다. 단 한 명의 선수를 제외하고는 모든 선수가 마라톤을 완주하였습니다.\n",
    "\n",
    "마라톤에 참여한 선수들의 이름이 담긴 배열 participant와 완주한 선수들의 이름이 담긴 배열 completion이 주어질 때, 완주하지 못한 선수의 이름을 return 하도록 solution 함수를 작성해주세요.\n",
    "\n",
    "## 제한사항\n",
    "- 마라톤 경기에 참여한 선수의 수는 1명 이상 100,000명 이하입니다.\n",
    "- completion의 길이는 participant의 길이보다 1 작습니다.\n",
    "- 참가자의 이름은 1개 이상 20개 이하의 알파벳 소문자로 이루어져 있습니다.\n",
    "- 참가자 중에는 동명이인이 있을 수 있습니다.\n",
    "\n",
    "## 입출력 예\n",
    "|participant|completion|return|\n",
    "|-----------|----------|------|\n",
    "|[leo, kiki, eden]|[eden, kiki]|leo|\n",
    "|[marina, josipa, nikola, vinko, filipa]|[josipa, filipa, marina, nikola]|vinko|\n",
    "|[mislav, stanko, mislav, ana]|[stanko, ana, mislav]|mislav|\n",
    "\n",
    "예제 #1\n",
    "leo는 참여자 명단에는 있지만, 완주자 명단에는 없기 때문에 완주하지 못했습니다.\n",
    "\n",
    "예제 #2\n",
    "vinko는 참여자 명단에는 있지만, 완주자 명단에는 없기 때문에 완주하지 못했습니다.\n",
    "\n",
    "예제 #3\n",
    "mislav는 참여자 명단에는 두 명이 있지만, 완주자 명단에는 한 명밖에 없기 때문에 한명은 완주하지 못했습니다."
   ]
  },
  {
   "cell_type": "code",
   "execution_count": 23,
   "metadata": {},
   "outputs": [],
   "source": [
    "def solution(participant, completion):\n",
    "    participant.sort()\n",
    "    completion.sort()\n",
    "    TF = 0\n",
    "    for i in range(len(completion)):\n",
    "        if participant[i]!=completion[i]:\n",
    "            answer = participant[i]\n",
    "            TF = 1\n",
    "            break\n",
    "    if TF == 0:\n",
    "        answer = participant[-1]\n",
    "    return answer"
   ]
  },
  {
   "cell_type": "code",
   "execution_count": 24,
   "metadata": {},
   "outputs": [
    {
     "name": "stdout",
     "output_type": "stream",
     "text": [
      "leo\n",
      "vinko\n",
      "mislav\n"
     ]
    }
   ],
   "source": [
    "#### test case ####\n",
    "print(solution(['leo', 'kiki', 'eden'],['eden', 'kiki'])) #leo\n",
    "print(solution(['marina', 'josipa', 'nikola', 'vinko', 'filipa'],['josipa', 'filipa', 'marina', 'nikola'])) #vinko\n",
    "print(solution(['mislav', 'stanko', 'mislav', 'ana'],['stanko', 'ana', 'mislav'])) #mislav"
   ]
  },
  {
   "cell_type": "markdown",
   "metadata": {},
   "source": [
    "## 다른 사람 풀이(참고)"
   ]
  },
  {
   "cell_type": "code",
   "execution_count": 28,
   "metadata": {},
   "outputs": [
    {
     "name": "stdout",
     "output_type": "stream",
     "text": [
      "leo\n",
      "vinko\n",
      "mislav\n"
     ]
    }
   ],
   "source": [
    "def solution1(participant, completion):\n",
    "    participant.sort()\n",
    "    completion.sort()\n",
    "    for i in range(len(completion)):\n",
    "        if participant[i] != completion[i]:\n",
    "            return participant[i]\n",
    "    return participant[-1] #if 문에 걸리지 않을 경우 아예 최종 return결과를 -1로 걸 수 있음\n",
    "\n",
    "#### test case ####\n",
    "print(solution1(['leo', 'kiki', 'eden'],['eden', 'kiki'])) #leo\n",
    "print(solution1(['marina', 'josipa', 'nikola', 'vinko', 'filipa'],['josipa', 'filipa', 'marina', 'nikola'])) #vinko\n",
    "print(solution1(['mislav', 'stanko', 'mislav', 'ana'],['stanko', 'ana', 'mislav'])) #mislav"
   ]
  },
  {
   "cell_type": "markdown",
   "metadata": {},
   "source": [
    "## hash()\n",
    "- 인식 할 수없는 값으로 데이터를 인코딩하는 방법\n",
    "- method to encode the data into unrecognisable value"
   ]
  },
  {
   "cell_type": "code",
   "execution_count": 75,
   "metadata": {},
   "outputs": [
    {
     "name": "stdout",
     "output_type": "stream",
     "text": [
      "leo\n",
      "vinko\n",
      "mislav\n"
     ]
    }
   ],
   "source": [
    "def solution2(participant, completion):\n",
    "    answer = '' #answer을 빈 문자열로 지정\n",
    "    temp = 0 #temp의 기본 세팅\n",
    "    dic = {} #dictionary: \n",
    "    for part in participant: #participant의 인자(이름)을 part로 받아\n",
    "        dic[hash(part)] = part # hash로 part의 고유값을 지정(key처럼)\n",
    "        temp += int(hash(part)) #temp는 part의 전체 hash값의 합\n",
    "    for com in completion:\n",
    "        temp -= hash(com) # part의 hash합 - completion의 hash합으로 com에는 없는 part의 인자를 도출\n",
    "    answer = dic[temp] #com에는 없는 part의 hash값을 part의 dictionary에서 key로 사용, answer도출\n",
    "\n",
    "    return answer #if 문에 걸리지 않을 경우 아예 최종 return결과를 -1로 걸 수 있음\n",
    "\n",
    "#### test case ####\n",
    "print(solution2(['leo', 'kiki', 'eden'],['eden', 'kiki'])) #leo\n",
    "print(solution2(['marina', 'josipa', 'nikola', 'vinko', 'filipa'],['josipa', 'filipa', 'marina', 'nikola'])) #vinko\n",
    "print(solution2(['mislav', 'stanko', 'mislav', 'ana'],['stanko', 'ana', 'mislav'])) #mislav"
   ]
  },
  {
   "cell_type": "code",
   "execution_count": 33,
   "metadata": {},
   "outputs": [
    {
     "name": "stdout",
     "output_type": "stream",
     "text": [
      "Counter({'leo': 1, 'kiki': 1, 'eden': 1})\n",
      "Counter({'eden': 1, 'kiki': 1})\n",
      "Counter({'leo': 1})\n",
      "leo\n",
      "Counter({'marina': 1, 'josipa': 1, 'nikola': 1, 'vinko': 1, 'filipa': 1})\n",
      "Counter({'josipa': 1, 'filipa': 1, 'marina': 1, 'nikola': 1})\n",
      "Counter({'vinko': 1})\n",
      "vinko\n",
      "Counter({'mislav': 2, 'stanko': 1, 'ana': 1})\n",
      "Counter({'stanko': 1, 'ana': 1, 'mislav': 1})\n",
      "Counter({'mislav': 1})\n",
      "mislav\n"
     ]
    }
   ],
   "source": [
    "import collections as cl ###충공깽 collestions\n",
    "\n",
    "def solution3(participant, completion):\n",
    "    answer = cl.Counter(participant) - cl.Counter(completion)\n",
    "    print(cl.Counter(participant)) #한번에 list의 인자를 count해서 dict.로 저장\n",
    "    print(cl.Counter(completion))\n",
    "    print(answer) #answer도 dictionary형태로 반환\n",
    "    return list(answer.keys())[0]\n",
    "\n",
    "#### test case ####\n",
    "print(solution3(['leo', 'kiki', 'eden'],['eden', 'kiki'])) #leo\n",
    "print(solution3(['marina', 'josipa', 'nikola', 'vinko', 'filipa'],['josipa', 'filipa', 'marina', 'nikola'])) #vinko\n",
    "print(solution3(['mislav', 'stanko', 'mislav', 'ana'],['stanko', 'ana', 'mislav'])) #mislav"
   ]
  },
  {
   "cell_type": "markdown",
   "metadata": {},
   "source": [
    "## collections\n",
    "[documents](https://docs.python.org/2/library/collections.html)\n",
    "- **Counter** : input을 'value:counts'의 dictionary로 반환. list, string, dictionary, tuple 모두 가능(int,float 불가)\n",
    "    - **elements** : Counter로 변환한 dictionary의 인자를 다시 나열 (입력된 순서대로)\n",
    "        - `sorted(cl.Counter().elements()` 쓰면 오름차순 정렬"
   ]
  },
  {
   "cell_type": "code",
   "execution_count": 74,
   "metadata": {},
   "outputs": [
    {
     "name": "stdout",
     "output_type": "stream",
     "text": [
      "\n",
      " ==========Counter()==========\n",
      "Counter({'leo': 3, 'kiki': 2, 'eden': 1})\n",
      "Counter({'a': 3, 'l': 2, 'g': 1, 'h': 1, 'd': 1})\n",
      "Counter({'red': 4, 'blue': 2})\n",
      "Counter({143: 3, 132: 2})\n",
      "==========Addition==========\n",
      "Counter({'leo': 3, 'kiki': 2, 'eden': 1})+Counter({'leo': 1, 'kiki': 1, 'eden': 1})\n",
      "Counter({'leo': 4, 'kiki': 3, 'eden': 2})\n",
      "==========Subtraction==========\n",
      "Counter({'leo': 3, 'kiki': 2, 'eden': 1})-Counter({'leo': 1, 'kiki': 1, 'eden': 1})\n",
      "Counter({'leo': 2, 'kiki': 1})\n",
      "\n",
      " ==========Counter.elements()==========\n",
      "['leo', 'leo', 'leo', 'kiki', 'kiki', 'eden']\n",
      "['g', 'a', 'a', 'a', 'l', 'l', 'h', 'd']\n",
      "['red', 'red', 'red', 'red', 'blue', 'blue']\n",
      "[143, 143, 143, 132, 132]\n",
      "==========sorted==========\n",
      "['eden', 'kiki', 'kiki', 'leo', 'leo', 'leo']\n",
      "['a', 'a', 'a', 'd', 'g', 'h', 'l', 'l']\n",
      "['blue', 'blue', 'red', 'red', 'red', 'red']\n",
      "[132, 132, 143, 143, 143]\n",
      "\n",
      " ==========Counter.most_common()==========\n",
      "[('a', 3), ('l', 2), ('g', 1)]\n"
     ]
    }
   ],
   "source": [
    "e1 = ['leo', 'kiki', 'eden','leo', 'kiki','leo']  #list\n",
    "e2 = 'gallahad'               #string\n",
    "e3 = {'red': 4, 'blue': 2}    #dictionary\n",
    "e4 = 1234567\n",
    "e5 = (143,143,143,132,132)\n",
    "e6 = ['leo','kiki','eden']\n",
    "\n",
    "print('\\n','==========Counter()==========')\n",
    "print(cl.Counter(e1))\n",
    "print(cl.Counter(e2))\n",
    "print(cl.Counter(e3))\n",
    "#print(cl.Counter(e4))\n",
    "print(cl.Counter(e5))\n",
    "print('==========Addition==========')\n",
    "print(f'{cl.Counter(e1)}+{cl.Counter(e6)}')\n",
    "print(cl.Counter(e1)+cl.Counter(e6))\n",
    "print('==========Subtraction==========')\n",
    "print(f'{cl.Counter(e1)}-{cl.Counter(e6)}')\n",
    "print(cl.Counter(e1)-cl.Counter(e6))\n",
    "\n",
    "# elements()\n",
    "print('\\n','==========Counter.elements()==========')\n",
    "print(list(cl.Counter(e1).elements()))\n",
    "print(list(cl.Counter(e2).elements()))\n",
    "print(list(cl.Counter(e3).elements()))\n",
    "print(list(cl.Counter(e5).elements()))\n",
    "\n",
    "# sorted.elements()\n",
    "print('==========sorted==========')\n",
    "print(sorted(cl.Counter(e1).elements()))\n",
    "print(sorted(cl.Counter(e2).elements()))\n",
    "print(sorted(cl.Counter(e3).elements()))\n",
    "print(sorted(cl.Counter(e5).elements()))\n",
    "\n",
    "# most_common()\n",
    "print('\\n','==========Counter.most_common()==========')\n",
    "print(cl.Counter(e2).most_common(3)) # value가 가장 큰 3가지 tuple*list형태로 반환\n"
   ]
  }
 ],
 "metadata": {
  "kernelspec": {
   "display_name": "Python 3",
   "language": "python",
   "name": "python3"
  },
  "language_info": {
   "codemirror_mode": {
    "name": "ipython",
    "version": 3
   },
   "file_extension": ".py",
   "mimetype": "text/x-python",
   "name": "python",
   "nbconvert_exporter": "python",
   "pygments_lexer": "ipython3",
   "version": "3.7.3"
  }
 },
 "nbformat": 4,
 "nbformat_minor": 2
}
