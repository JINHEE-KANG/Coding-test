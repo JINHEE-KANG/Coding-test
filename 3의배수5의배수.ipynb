{
 "cells": [
  {
   "cell_type": "markdown",
   "metadata": {},
   "source": [
    "# 3의 배수 5의 배수\n",
    "\n",
    "## Problem\n",
    "\n",
    "정수 n이 입력될 때, 3의 배수이면 '*three*' 5의 배수이면 '*five*', 3과 5의 배수이면 '*tnf*'를 출력하시오.\n",
    "\n",
    "#### **Example 1**\n",
    "\n",
    "```\n",
    "Input: 10\n",
    "Output: 1,4,9\n",
    "```\n",
    "\n",
    "\n",
    "## Code\n",
    "\n",
    "**19.07.12 ver**"
   ]
  },
  {
   "cell_type": "code",
   "execution_count": 1,
   "metadata": {},
   "outputs": [],
   "source": [
    "def tnf(n):\n",
    "    if n%3 == 0:\n",
    "        if n%5 == 0:\n",
    "            ans = 'tnf'\n",
    "        else:\n",
    "            ans = 'three'\n",
    "    elif n%5 == 0:\n",
    "        ans = 'five'\n",
    "    else:\n",
    "        ans = 'non'\n",
    "    return ans"
   ]
  },
  {
   "cell_type": "code",
   "execution_count": 2,
   "metadata": {},
   "outputs": [],
   "source": [
    "def tnf_new(n):\n",
    "    tnf_l = ['non','three','five','tnf']\n",
    "    ans = tnf_l[0]\n",
    "    if n%15 == 0:\n",
    "        ans = tnf_l[3]\n",
    "    elif n%5 == 0:\n",
    "        ans = tnf_l[2]\n",
    "    elif n%3 == 0:\n",
    "        ans = tnf_l[1]\n",
    "    return ans"
   ]
  },
  {
   "cell_type": "code",
   "execution_count": 4,
   "metadata": {},
   "outputs": [
    {
     "name": "stdout",
     "output_type": "stream",
     "text": [
      "['non', 'three', 'tnf', 'three', 'non']\n",
      "['non', 'three', 'tnf', 'three', 'non']\n"
     ]
    }
   ],
   "source": [
    "n = [19,6,15,9,8]\n",
    "\n",
    "print(list(map(tnf,n)))\n",
    "print(list(map(tnf_new,n)))"
   ]
  }
 ],
 "metadata": {
  "kernelspec": {
   "display_name": "Python 3",
   "language": "python",
   "name": "python3"
  },
  "language_info": {
   "codemirror_mode": {
    "name": "ipython",
    "version": 3
   },
   "file_extension": ".py",
   "mimetype": "text/x-python",
   "name": "python",
   "nbconvert_exporter": "python",
   "pygments_lexer": "ipython3",
   "version": "3.7.3"
  }
 },
 "nbformat": 4,
 "nbformat_minor": 2
}
